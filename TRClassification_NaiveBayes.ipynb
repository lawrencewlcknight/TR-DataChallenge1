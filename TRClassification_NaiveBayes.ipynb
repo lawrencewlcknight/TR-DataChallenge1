{
 "cells": [
  {
   "cell_type": "markdown",
   "id": "b4dae51c",
   "metadata": {},
   "source": [
    "# TR Text Classification"
   ]
  },
  {
   "cell_type": "markdown",
   "id": "93bc8940",
   "metadata": {},
   "source": [
    "## Naive Bayes - Baseline Model"
   ]
  },
  {
   "cell_type": "markdown",
   "id": "a8b2861e",
   "metadata": {},
   "source": [
    "## Import Packages"
   ]
  },
  {
   "cell_type": "code",
   "execution_count": 19,
   "id": "8c59754b",
   "metadata": {},
   "outputs": [
    {
     "name": "stderr",
     "output_type": "stream",
     "text": [
      "[nltk_data] Downloading package stopwords to\n",
      "[nltk_data]     /home/lawrence/nltk_data...\n",
      "[nltk_data]   Package stopwords is already up-to-date!\n"
     ]
    }
   ],
   "source": [
    "import pandas as pd\n",
    "import string\n",
    "\n",
    "import nltk # Natural Language tool kit \n",
    "nltk.download('stopwords')\n",
    "from nltk.corpus import stopwords\n",
    "stopwords.words('english')\n",
    "\n",
    "from sklearn.feature_extraction.text import CountVectorizer\n",
    "from sklearn.model_selection import train_test_split\n",
    "from sklearn.naive_bayes import MultinomialNB\n",
    "\n",
    "from sklearn.metrics import accuracy_score\n",
    "from sklearn.metrics import balanced_accuracy_score\n",
    "from sklearn.metrics import f1_score"
   ]
  },
  {
   "cell_type": "markdown",
   "id": "c5b2c56d",
   "metadata": {},
   "source": [
    "## Import Data"
   ]
  },
  {
   "cell_type": "code",
   "execution_count": 2,
   "id": "e98c1743",
   "metadata": {},
   "outputs": [],
   "source": [
    "df_model = pd.read_csv(\"./1-Title_Classification/train1.csv\")"
   ]
  },
  {
   "cell_type": "markdown",
   "id": "f6810a9d",
   "metadata": {},
   "source": [
    "## EDA"
   ]
  },
  {
   "cell_type": "code",
   "execution_count": 3,
   "id": "7baa01a3",
   "metadata": {},
   "outputs": [],
   "source": [
    "# Drop the ID columns\n",
    "df_model = df_model.drop(columns = ['ID'])"
   ]
  },
  {
   "cell_type": "code",
   "execution_count": 4,
   "id": "c1b12438",
   "metadata": {},
   "outputs": [
    {
     "data": {
      "text/plain": [
       "0    3107\n",
       "1    2406\n",
       "2    2404\n",
       "Name: TOPIC, dtype: int64"
      ]
     },
     "execution_count": 4,
     "metadata": {},
     "output_type": "execute_result"
    }
   ],
   "source": [
    "# distribution of topics\n",
    "\n",
    "df_model['TOPIC'].value_counts()"
   ]
  },
  {
   "cell_type": "code",
   "execution_count": 5,
   "id": "7b226258",
   "metadata": {},
   "outputs": [
    {
     "data": {
      "text/html": [
       "<div>\n",
       "<style scoped>\n",
       "    .dataframe tbody tr th:only-of-type {\n",
       "        vertical-align: middle;\n",
       "    }\n",
       "\n",
       "    .dataframe tbody tr th {\n",
       "        vertical-align: top;\n",
       "    }\n",
       "\n",
       "    .dataframe thead th {\n",
       "        text-align: right;\n",
       "    }\n",
       "</style>\n",
       "<table border=\"1\" class=\"dataframe\">\n",
       "  <thead>\n",
       "    <tr style=\"text-align: right;\">\n",
       "      <th></th>\n",
       "      <th>TITLE</th>\n",
       "      <th>TOPIC</th>\n",
       "    </tr>\n",
       "  </thead>\n",
       "  <tbody>\n",
       "    <tr>\n",
       "      <th>0</th>\n",
       "      <td>RITE AID CORP &lt;RAD&gt; SETS DIVIDEND</td>\n",
       "      <td>0</td>\n",
       "    </tr>\n",
       "    <tr>\n",
       "      <th>1</th>\n",
       "      <td>DEL E. WEBB INVESTMENT &lt;DWPA&gt; 4TH QTR NET</td>\n",
       "      <td>0</td>\n",
       "    </tr>\n",
       "    <tr>\n",
       "      <th>2</th>\n",
       "      <td>GENERAL HOST CORP &lt;GH&gt; SETS QUARTERLY</td>\n",
       "      <td>0</td>\n",
       "    </tr>\n",
       "    <tr>\n",
       "      <th>3</th>\n",
       "      <td>PROFESSOR LIFTS BANC TEXAS &lt;BTX&gt; PREFERRED STAKE</td>\n",
       "      <td>1</td>\n",
       "    </tr>\n",
       "    <tr>\n",
       "      <th>4</th>\n",
       "      <td>WINCHELL'S DONUT &lt;WDH&gt; SETS INITIAL QUARTERLY</td>\n",
       "      <td>0</td>\n",
       "    </tr>\n",
       "  </tbody>\n",
       "</table>\n",
       "</div>"
      ],
      "text/plain": [
       "                                              TITLE  TOPIC\n",
       "0                 RITE AID CORP <RAD> SETS DIVIDEND      0\n",
       "1         DEL E. WEBB INVESTMENT <DWPA> 4TH QTR NET      0\n",
       "2             GENERAL HOST CORP <GH> SETS QUARTERLY      0\n",
       "3  PROFESSOR LIFTS BANC TEXAS <BTX> PREFERRED STAKE      1\n",
       "4     WINCHELL'S DONUT <WDH> SETS INITIAL QUARTERLY      0"
      ]
     },
     "execution_count": 5,
     "metadata": {},
     "output_type": "execute_result"
    }
   ],
   "source": [
    "df_model.head()"
   ]
  },
  {
   "cell_type": "markdown",
   "id": "2e36b411",
   "metadata": {},
   "source": [
    "## CREATE A PIPELINE TO REMOVE PUNCTUATIONS, STOPWORDS AND PERFORM COUNT VECTORIZATION"
   ]
  },
  {
   "cell_type": "code",
   "execution_count": 9,
   "id": "f33d79ae",
   "metadata": {},
   "outputs": [],
   "source": [
    "def message_cleaning(message):\n",
    "    Test_punc_removed = [char for char in message if char not in string.punctuation]\n",
    "    Test_punc_removed_join = ''.join(Test_punc_removed)\n",
    "    Test_punc_removed_join_clean = [word for word in Test_punc_removed_join.split() if word.lower() not in stopwords.words('english')]\n",
    "    return Test_punc_removed_join_clean"
   ]
  },
  {
   "cell_type": "code",
   "execution_count": 10,
   "id": "8becdb2a",
   "metadata": {},
   "outputs": [],
   "source": [
    "tweets_countvectorizer = CountVectorizer(analyzer = message_cleaning, dtype = 'uint8').fit_transform(df_model['TITLE']).toarray()"
   ]
  },
  {
   "cell_type": "code",
   "execution_count": 11,
   "id": "06d783ec",
   "metadata": {},
   "outputs": [],
   "source": [
    "X = tweets_countvectorizer"
   ]
  },
  {
   "cell_type": "code",
   "execution_count": 12,
   "id": "b52a7f3f",
   "metadata": {},
   "outputs": [],
   "source": [
    "y = df_model['TOPIC']"
   ]
  },
  {
   "cell_type": "markdown",
   "id": "9b50de52",
   "metadata": {},
   "source": [
    "## TRAIN A NAIVE BAYES CLASSIFIER MODEL"
   ]
  },
  {
   "cell_type": "code",
   "execution_count": 13,
   "id": "42ab368f",
   "metadata": {},
   "outputs": [
    {
     "data": {
      "text/plain": [
       "(7917, 10611)"
      ]
     },
     "execution_count": 13,
     "metadata": {},
     "output_type": "execute_result"
    }
   ],
   "source": [
    "X.shape"
   ]
  },
  {
   "cell_type": "code",
   "execution_count": 14,
   "id": "0d09df3e",
   "metadata": {},
   "outputs": [
    {
     "data": {
      "text/plain": [
       "(7917,)"
      ]
     },
     "execution_count": 14,
     "metadata": {},
     "output_type": "execute_result"
    }
   ],
   "source": [
    "y.shape"
   ]
  },
  {
   "cell_type": "code",
   "execution_count": 17,
   "id": "27d09cc9",
   "metadata": {},
   "outputs": [],
   "source": [
    "X_train, X_test, y_train, y_test  = train_test_split(X,\n",
    "                                                     y,\n",
    "                                                     test_size=0.2,\n",
    "                                                     random_state=42)"
   ]
  },
  {
   "cell_type": "code",
   "execution_count": 18,
   "id": "d6190695",
   "metadata": {},
   "outputs": [],
   "source": [
    "del X\n",
    "del y"
   ]
  },
  {
   "cell_type": "code",
   "execution_count": 20,
   "id": "c81ca0f4",
   "metadata": {},
   "outputs": [
    {
     "data": {
      "text/plain": [
       "MultinomialNB()"
      ]
     },
     "execution_count": 20,
     "metadata": {},
     "output_type": "execute_result"
    }
   ],
   "source": [
    "NB_classifier = MultinomialNB()\n",
    "NB_classifier.fit(X_train, y_train)"
   ]
  },
  {
   "cell_type": "markdown",
   "id": "5a9c2b7a",
   "metadata": {},
   "source": [
    "## ASSESS TRAINED MODEL PERFORMANCE "
   ]
  },
  {
   "cell_type": "code",
   "execution_count": 21,
   "id": "ecdc0484",
   "metadata": {},
   "outputs": [],
   "source": [
    "# Predicting the Test set results\n",
    "y_predict_test = NB_classifier.predict(X_test)"
   ]
  },
  {
   "cell_type": "code",
   "execution_count": 27,
   "id": "7e01d299",
   "metadata": {},
   "outputs": [
    {
     "data": {
      "text/plain": [
       "0.8712121212121212"
      ]
     },
     "execution_count": 27,
     "metadata": {},
     "output_type": "execute_result"
    }
   ],
   "source": [
    "accuracy_score(y_test, y_predict_test)"
   ]
  },
  {
   "cell_type": "code",
   "execution_count": 28,
   "id": "7018cbf3",
   "metadata": {},
   "outputs": [
    {
     "data": {
      "text/plain": [
       "0.8708694753052063"
      ]
     },
     "execution_count": 28,
     "metadata": {},
     "output_type": "execute_result"
    }
   ],
   "source": [
    "balanced_accuracy_score(y_test, y_predict_test)"
   ]
  },
  {
   "cell_type": "code",
   "execution_count": 32,
   "id": "6bc940c4",
   "metadata": {},
   "outputs": [
    {
     "data": {
      "text/plain": [
       "0.8726671988362377"
      ]
     },
     "execution_count": 32,
     "metadata": {},
     "output_type": "execute_result"
    }
   ],
   "source": [
    "f1_score(y_test, y_predict_test, average='weighted')"
   ]
  },
  {
   "cell_type": "code",
   "execution_count": null,
   "id": "41532879",
   "metadata": {},
   "outputs": [],
   "source": []
  }
 ],
 "metadata": {
  "kernelspec": {
   "display_name": "Python 3 (ipykernel)",
   "language": "python",
   "name": "python3"
  },
  "language_info": {
   "codemirror_mode": {
    "name": "ipython",
    "version": 3
   },
   "file_extension": ".py",
   "mimetype": "text/x-python",
   "name": "python",
   "nbconvert_exporter": "python",
   "pygments_lexer": "ipython3",
   "version": "3.9.6"
  }
 },
 "nbformat": 4,
 "nbformat_minor": 5
}
